{
 "cells": [
  {
   "cell_type": "code",
   "execution_count": 25,
   "metadata": {
    "collapsed": true
   },
   "outputs": [],
   "source": [
    "%matplotlib inline\n",
    "from shapely.geometry import Point, Polygon\n",
    "import geopandas as gpd\n",
    "import os\n",
    "import matplotlib as mpl\n",
    "import matplotlib.pyplot as plt\n",
    "from shapely.geometry import Point\n",
    "import pandas as pd\n",
    "import geopandas as gpd\n",
    "from geopandas import GeoSeries, GeoDataFrame"
   ]
  },
  {
   "cell_type": "code",
   "execution_count": 3,
   "metadata": {
    "collapsed": false
   },
   "outputs": [
    {
     "data": {
      "text/plain": [
       "('1.5.1', '0.19.2', '0.2.1')"
      ]
     },
     "execution_count": 3,
     "metadata": {},
     "output_type": "execute_result"
    }
   ],
   "source": [
    "mpl.__version__, pd.__version__, gpd.__version__"
   ]
  },
  {
   "cell_type": "code",
   "execution_count": 65,
   "metadata": {
    "collapsed": true
   },
   "outputs": [],
   "source": [
    "data_path = \"../big_data_leave\""
   ]
  },
  {
   "cell_type": "code",
   "execution_count": 7,
   "metadata": {
    "collapsed": false
   },
   "outputs": [],
   "source": [
    "file = \"/Harvey_FEMA_HCAD_Damage.json\"\n",
    "filePath = data_path+file\n",
    "df = gpd.read_file(filePath)"
   ]
  },
  {
   "cell_type": "code",
   "execution_count": 8,
   "metadata": {
    "collapsed": false
   },
   "outputs": [
    {
     "name": "stdout",
     "output_type": "stream",
     "text": [
      "<class 'geopandas.geodataframe.GeoDataFrame'>\n"
     ]
    }
   ],
   "source": [
    "print(type(df))"
   ]
  },
  {
   "cell_type": "code",
   "execution_count": 9,
   "metadata": {
    "collapsed": false
   },
   "outputs": [
    {
     "data": {
      "text/html": [
       "<div>\n",
       "<table border=\"1\" class=\"dataframe\">\n",
       "  <thead>\n",
       "    <tr style=\"text-align: right;\">\n",
       "      <th></th>\n",
       "      <th>ACCESS</th>\n",
       "      <th>ACCOUNT</th>\n",
       "      <th>ACCOUNT_1</th>\n",
       "      <th>ACCOUNT_12</th>\n",
       "      <th>ACREAGE</th>\n",
       "      <th>ADJ_CD</th>\n",
       "      <th>ADJ_UNIT_P</th>\n",
       "      <th>AG_VALUE</th>\n",
       "      <th>APPR_OVERR</th>\n",
       "      <th>APPR_OVE_1</th>\n",
       "      <th>...</th>\n",
       "      <th>USNG</th>\n",
       "      <th>VALUE</th>\n",
       "      <th>VALUE_STAT</th>\n",
       "      <th>WIND_SPEED</th>\n",
       "      <th>YR_ANNEXED</th>\n",
       "      <th>YR_IMPR</th>\n",
       "      <th>city</th>\n",
       "      <th>geometry</th>\n",
       "      <th>parcel_typ</th>\n",
       "      <th>zip</th>\n",
       "    </tr>\n",
       "  </thead>\n",
       "  <tbody>\n",
       "    <tr>\n",
       "      <th>0</th>\n",
       "      <td>UNK</td>\n",
       "      <td>1202010030003</td>\n",
       "      <td>1202010030003</td>\n",
       "      <td>1202010030003</td>\n",
       "      <td>.2364</td>\n",
       "      <td>.810000</td>\n",
       "      <td>5.3500</td>\n",
       "      <td>0</td>\n",
       "      <td>1.0000</td>\n",
       "      <td></td>\n",
       "      <td>...</td>\n",
       "      <td></td>\n",
       "      <td>40125</td>\n",
       "      <td>Noticed</td>\n",
       "      <td>UNK</td>\n",
       "      <td></td>\n",
       "      <td>2000</td>\n",
       "      <td>KATY</td>\n",
       "      <td>POINT (-95.73226883699994 29.73575664100002)</td>\n",
       "      <td>0</td>\n",
       "      <td>77450</td>\n",
       "    </tr>\n",
       "    <tr>\n",
       "      <th>1</th>\n",
       "      <td>UNK</td>\n",
       "      <td>1202010030004</td>\n",
       "      <td>1202010030004</td>\n",
       "      <td>1202010030004</td>\n",
       "      <td>.2001</td>\n",
       "      <td>.810000</td>\n",
       "      <td>5.3500</td>\n",
       "      <td>0</td>\n",
       "      <td>1.0000</td>\n",
       "      <td></td>\n",
       "      <td>...</td>\n",
       "      <td></td>\n",
       "      <td>40125</td>\n",
       "      <td>Noticed</td>\n",
       "      <td>UNK</td>\n",
       "      <td></td>\n",
       "      <td>2000</td>\n",
       "      <td>KATY</td>\n",
       "      <td>POINT (-95.73204898999995 29.73562839900006)</td>\n",
       "      <td>0</td>\n",
       "      <td>77450</td>\n",
       "    </tr>\n",
       "    <tr>\n",
       "      <th>2</th>\n",
       "      <td>UNK</td>\n",
       "      <td>0402830000004</td>\n",
       "      <td>0402830000004</td>\n",
       "      <td>0402830000004</td>\n",
       "      <td>1.1946</td>\n",
       "      <td>.870000</td>\n",
       "      <td>23958.0000</td>\n",
       "      <td>0</td>\n",
       "      <td>1.0000</td>\n",
       "      <td></td>\n",
       "      <td>...</td>\n",
       "      <td></td>\n",
       "      <td>28620</td>\n",
       "      <td>Noticed</td>\n",
       "      <td>UNK</td>\n",
       "      <td></td>\n",
       "      <td>2005</td>\n",
       "      <td>CROSBY</td>\n",
       "      <td>POINT (-94.99682199999995 29.98136228400006)</td>\n",
       "      <td>0</td>\n",
       "      <td>77532</td>\n",
       "    </tr>\n",
       "    <tr>\n",
       "      <th>3</th>\n",
       "      <td>UNK</td>\n",
       "      <td>1068480000011</td>\n",
       "      <td>1068480000011</td>\n",
       "      <td>1068480000011</td>\n",
       "      <td>.1931</td>\n",
       "      <td>.650000</td>\n",
       "      <td>3.3000</td>\n",
       "      <td>0</td>\n",
       "      <td>1.0000</td>\n",
       "      <td></td>\n",
       "      <td>...</td>\n",
       "      <td></td>\n",
       "      <td>24750</td>\n",
       "      <td>Noticed</td>\n",
       "      <td>UNK</td>\n",
       "      <td></td>\n",
       "      <td>1976</td>\n",
       "      <td>HOUSTON</td>\n",
       "      <td>POINT (-95.63591934699997 29.84071122500006)</td>\n",
       "      <td>0</td>\n",
       "      <td>77084</td>\n",
       "    </tr>\n",
       "    <tr>\n",
       "      <th>4</th>\n",
       "      <td>UNK</td>\n",
       "      <td>1142710060011</td>\n",
       "      <td>1142710060011</td>\n",
       "      <td>1142710060011</td>\n",
       "      <td>.2011</td>\n",
       "      <td>.570000</td>\n",
       "      <td>3.5000</td>\n",
       "      <td>0</td>\n",
       "      <td>1.0000</td>\n",
       "      <td></td>\n",
       "      <td>...</td>\n",
       "      <td></td>\n",
       "      <td>22050</td>\n",
       "      <td>Noticed</td>\n",
       "      <td>UNK</td>\n",
       "      <td></td>\n",
       "      <td>1979</td>\n",
       "      <td>HOUSTON</td>\n",
       "      <td>POINT (-95.65064504499998 29.83439115100003)</td>\n",
       "      <td>0</td>\n",
       "      <td>77084</td>\n",
       "    </tr>\n",
       "  </tbody>\n",
       "</table>\n",
       "<p>5 rows × 134 columns</p>\n",
       "</div>"
      ],
      "text/plain": [
       "  ACCESS        ACCOUNT      ACCOUNT_1     ACCOUNT_12 ACREAGE   ADJ_CD  \\\n",
       "0    UNK  1202010030003  1202010030003  1202010030003   .2364  .810000   \n",
       "1    UNK  1202010030004  1202010030004  1202010030004   .2001  .810000   \n",
       "2    UNK  0402830000004  0402830000004  0402830000004  1.1946  .870000   \n",
       "3    UNK  1068480000011  1068480000011  1068480000011   .1931  .650000   \n",
       "4    UNK  1142710060011  1142710060011  1142710060011   .2011  .570000   \n",
       "\n",
       "   ADJ_UNIT_P AG_VALUE APPR_OVERR APPR_OVE_1  ...   USNG  VALUE VALUE_STAT  \\\n",
       "0      5.3500        0     1.0000             ...         40125    Noticed   \n",
       "1      5.3500        0     1.0000             ...         40125    Noticed   \n",
       "2  23958.0000        0     1.0000             ...         28620    Noticed   \n",
       "3      3.3000        0     1.0000             ...         24750    Noticed   \n",
       "4      3.5000        0     1.0000             ...         22050    Noticed   \n",
       "\n",
       "   WIND_SPEED YR_ANNEXED YR_IMPR     city  \\\n",
       "0         UNK               2000     KATY   \n",
       "1         UNK               2000     KATY   \n",
       "2         UNK               2005   CROSBY   \n",
       "3         UNK               1976  HOUSTON   \n",
       "4         UNK               1979  HOUSTON   \n",
       "\n",
       "                                       geometry parcel_typ    zip  \n",
       "0  POINT (-95.73226883699994 29.73575664100002)          0  77450  \n",
       "1  POINT (-95.73204898999995 29.73562839900006)          0  77450  \n",
       "2  POINT (-94.99682199999995 29.98136228400006)          0  77532  \n",
       "3  POINT (-95.63591934699997 29.84071122500006)          0  77084  \n",
       "4  POINT (-95.65064504499998 29.83439115100003)          0  77084  \n",
       "\n",
       "[5 rows x 134 columns]"
      ]
     },
     "execution_count": 9,
     "metadata": {},
     "output_type": "execute_result"
    }
   ],
   "source": [
    "df.head()"
   ]
  },
  {
   "cell_type": "code",
   "execution_count": 10,
   "metadata": {
    "collapsed": false
   },
   "outputs": [
    {
     "data": {
      "text/plain": [
       "Index(['ACCESS', 'ACCOUNT', 'ACCOUNT_1', 'ACCOUNT_12', 'ACREAGE', 'ADJ_CD',\n",
       "       'ADJ_UNIT_P', 'AG_VALUE', 'APPR_OVERR', 'APPR_OVE_1',\n",
       "       ...\n",
       "       'USNG', 'VALUE', 'VALUE_STAT', 'WIND_SPEED', 'YR_ANNEXED', 'YR_IMPR',\n",
       "       'city', 'geometry', 'parcel_typ', 'zip'],\n",
       "      dtype='object', length=134)"
      ]
     },
     "execution_count": 10,
     "metadata": {},
     "output_type": "execute_result"
    }
   ],
   "source": [
    "df.columns"
   ]
  },
  {
   "cell_type": "code",
   "execution_count": 41,
   "metadata": {
    "collapsed": false
   },
   "outputs": [
    {
     "data": {
      "text/plain": [
       "geopandas.geodataframe.GeoDataFrame"
      ]
     },
     "execution_count": 41,
     "metadata": {},
     "output_type": "execute_result"
    }
   ],
   "source": [
    "type(df)"
   ]
  },
  {
   "cell_type": "code",
   "execution_count": 19,
   "metadata": {
    "collapsed": false,
    "scrolled": true
   },
   "outputs": [
    {
     "data": {
      "text/plain": [
       "({'geometry': {'coordinates': [-95.73226883699994, 29.735756641000023],\n",
       "   'type': 'Point'},\n",
       "  'properties': {'ACCESS': 'UNK',\n",
       "   'ACCOUNT': '1202010030003',\n",
       "   'ACCOUNT_1': '1202010030003',\n",
       "   'ACCOUNT_12': '1202010030003',\n",
       "   'ACREAGE': '.2364',\n",
       "   'ADJ_CD': '.810000',\n",
       "   'ADJ_UNIT_P': '5.3500',\n",
       "   'AG_VALUE': '0',\n",
       "   'APPR_OVERR': '1.0000',\n",
       "   'APPR_OVE_1': '',\n",
       "   'ASMT_TYPE': 'MOD',\n",
       "   'ASSESSED_V': '251343',\n",
       "   'BLK_NUM': '',\n",
       "   'BUILDING_N': 1,\n",
       "   'CAP_ACCOUN': 'N',\n",
       "   'CATEGORY_D': 'Average',\n",
       "   'CENTER_COD': '90',\n",
       "   'CERTIFIED_': '2017-08-11 00:00:00.000',\n",
       "   'CODE': '4',\n",
       "   'COMMENTS': '',\n",
       "   'CONDO_FLAG': '0',\n",
       "   'COUNTY': 'Fort Bend',\n",
       "   'CurrOwner': 'HARDESTY LISA A &',\n",
       "   'DIS_NUMBER': 'DR-4332',\n",
       "   'DMG_LEVEL': 'AFF',\n",
       "   'DMG_TYPE': 'FL',\n",
       "   'DSC_CD': '',\n",
       "   'ECON_AREA': '',\n",
       "   'ECON_BLD_C': '',\n",
       "   'EVENT_DATE': '1899-11-30T00:00:00.000Z',\n",
       "   'EVENT_NAME': 'Hurricane Harvey',\n",
       "   'EXTRA_FEAT': '0',\n",
       "   'FIPS': 48157,\n",
       "   'HCAD_NUM': '1202010030003',\n",
       "   'IMG_DATE': '1899-11-30T00:00:00.000Z',\n",
       "   'IMPROVEMEN': '209721',\n",
       "   'IN_DEPTH': 0.18953704834,\n",
       "   'JURS': 'Split Account: See Split Jurs',\n",
       "   'Join_Count': 1,\n",
       "   'KEY_MAP': '486T',\n",
       "   'LAND_USE_C': '1001',\n",
       "   'LAND_USE_D': 'Res Improved Table Value',\n",
       "   'LAND_VALUE': '41622',\n",
       "   'LAST_INSPE': '2010-02-15 00:00:00.000',\n",
       "   'LAST_INS_1': '01348',\n",
       "   'LATITUDE': 29.7358,\n",
       "   'LEGAL_DSCR': 'LT 3 BLK 3',\n",
       "   'LEGAL_DS_1': '(HC* L 8% & I 0%)',\n",
       "   'LEGAL_DS_2': 'CINCO RANCH EQUESTRIAN VILLAGE SEC 3',\n",
       "   'LEGAL_DS_3': '',\n",
       "   'LINE_NUMBE': 1,\n",
       "   'LONGITUDE': -95.7323,\n",
       "   'LOT_NUM': '',\n",
       "   'LocAddr': '20407 ARROW FIELD LN',\n",
       "   'LocName': 'ARROW FIELD',\n",
       "   'LocNum': 20407,\n",
       "   'MAILTO': 'HARDESTY LISA A &',\n",
       "   'MAIL_ADDR1': '',\n",
       "   'MAIL_ADDR_': '20407 ARROW FIELD LN',\n",
       "   'MAIL_CITY': 'KATY',\n",
       "   'MAIL_COUNT': '',\n",
       "   'MAIL_STATE': 'TX',\n",
       "   'MAIL_ZIP': '77450-7416',\n",
       "   'MAP_FACET': '4556C',\n",
       "   'MARKET_ARE': '341',\n",
       "   'MARKET_A_1': 'ISD 19 - South of I-10 Katy Freeway',\n",
       "   'MARKET_A_2': '341',\n",
       "   'MARKET_A_3': 'ISD 19 - South of I-10 Katy Freeway',\n",
       "   'NEIGHBORHO': '2915.08',\n",
       "   'NEIGHBOR_1': '19015',\n",
       "   'NEW_CONSTR': '0',\n",
       "   'NEW_OWNER_': '2001-02-23 00:00:00.000',\n",
       "   'NOTICED': 'Y',\n",
       "   'NOTICE_DAT': '2017-03-31 00:00:00.000',\n",
       "   'NXT_BUILDI': '2',\n",
       "   'OBJECTID': 2,\n",
       "   'OVERRIDE_V': '',\n",
       "   'PGA': 0,\n",
       "   'PRIOR_AG_V': '0',\n",
       "   'PRIOR_IMPR': '209721',\n",
       "   'PRIOR_LND_': '41622',\n",
       "   'PRIOR_TOTA': '251343',\n",
       "   'PRIOR_TO_1': '251343',\n",
       "   'PRIOR_X_FE': '0',\n",
       "   'PROD_DATE': '2017-09-02T00:00:00.000Z',\n",
       "   'PROTESTED': 'N',\n",
       "   'SCHOOL_DIS': '19',\n",
       "   'SHARED_CAD': 'Y',\n",
       "   'SITE_ADDR1': 'KATY',\n",
       "   'SITE_ADDR_': '20407 ARROW FIELD LN',\n",
       "   'SITE_ADD_1': '77450',\n",
       "   'SITE_ADJ': '1.0000',\n",
       "   'SITE_CD': 'SF1',\n",
       "   'SITE_CD_DS': 'Primary SF',\n",
       "   'SITE_FACT': '1.0000',\n",
       "   'SIZE_FACTO': '1.0000',\n",
       "   'SOURCE': 'FEMA',\n",
       "   'SPLT_DT': '',\n",
       "   'STATE': 'TX',\n",
       "   'STATE_CLAS': 'A1',\n",
       "   'STATE_CL_1': 'A1',\n",
       "   'STRUCTURE_': 'CDU',\n",
       "   'STR_NAME': 'ARROW FIELD',\n",
       "   'STR_NUM': 20407,\n",
       "   'STR_NUM_SF': '',\n",
       "   'STR_PFX': '',\n",
       "   'STR_SFX': 'LN',\n",
       "   'STR_SFX_DI': '',\n",
       "   'STR_UNIT': '',\n",
       "   'Shape_STAr': 10231.328125,\n",
       "   'Shape_STLe': 416.719006112,\n",
       "   'TARGET_FID': 5070,\n",
       "   'TAX_YEAR': '2017',\n",
       "   'TOTAL_APPR': '251343',\n",
       "   'TOTAL_BUIL': '2161',\n",
       "   'TOTAL_LAND': '10298',\n",
       "   'TOTAL_MARK': '251343',\n",
       "   'TOTAL_RCN_': '263198',\n",
       "   'TOT_ADJ': '1.0000',\n",
       "   'TYPE_DESCR': 'Cond / Desir / Util',\n",
       "   'UNDELIVERA': 'N',\n",
       "   'UNITS': '7500.0000',\n",
       "   'UNIT_PRICE': '5.35',\n",
       "   'UNIT_TYPE': 'SF',\n",
       "   'USNG': '',\n",
       "   'VALUE': '40125',\n",
       "   'VALUE_STAT': 'Noticed',\n",
       "   'WIND_SPEED': 'UNK',\n",
       "   'YR_ANNEXED': '',\n",
       "   'YR_IMPR': '2000',\n",
       "   'city': 'KATY',\n",
       "   'parcel_typ': '0',\n",
       "   'zip': '77450'},\n",
       "  'type': 'Feature'},)"
      ]
     },
     "execution_count": 19,
     "metadata": {},
     "output_type": "execute_result"
    }
   ],
   "source": [
    "# one feature\n",
    "{\"type\":\"Feature\",\"geometry\":{\"type\":\"Point\",\"coordinates\":[-95.73226883699994,29.735756641000023]},\"properties\":{\"OBJECTID\":2,\"Join_Count\":1,\"TARGET_FID\":5070,\"DMG_LEVEL\":\"AFF\",\"DMG_TYPE\":\"FL\",\"ASMT_TYPE\":\"MOD\",\"IN_DEPTH\":0.18953704834,\"WIND_SPEED\":\"UNK\",\"PGA\":0,\"ACCESS\":\"UNK\",\"COUNTY\":\"Fort Bend\",\"STATE\":\"TX\",\"FIPS\":48157,\"PROD_DATE\":\"2017-09-02T00:00:00.000Z\",\"IMG_DATE\":\"1899-11-30T00:00:00.000Z\",\"EVENT_NAME\":\"Hurricane Harvey\",\"EVENT_DATE\":\"1899-11-30T00:00:00.000Z\",\"SOURCE\":\"FEMA\",\"DIS_NUMBER\":\"DR-4332\",\"COMMENTS\":\"\",\"LONGITUDE\":-95.7323,\"LATITUDE\":29.7358,\"USNG\":\"\",\"HCAD_NUM\":\"1202010030003\",\"BLK_NUM\":\"\",\"LOT_NUM\":\"\",\"CONDO_FLAG\":\"0\",\"parcel_typ\":\"0\",\"CurrOwner\":\"HARDESTY LISA A &\",\"LocAddr\":\"20407 ARROW FIELD LN\",\"city\":\"KATY\",\"zip\":\"77450\",\"LocNum\":20407,\"LocName\":\"ARROW FIELD\",\"Shape_STAr\":10231.328125,\"Shape_STLe\":416.719006112,\"ACCOUNT\":\"1202010030003\",\"TAX_YEAR\":\"2017\",\"MAILTO\":\"HARDESTY LISA A &\",\"MAIL_ADDR_\":\"20407 ARROW FIELD LN\",\"MAIL_ADDR1\":\"\",\"MAIL_CITY\":\"KATY\",\"MAIL_STATE\":\"TX\",\"MAIL_ZIP\":\"77450-7416\",\"MAIL_COUNT\":\"\",\"UNDELIVERA\":\"N\",\"STR_PFX\":\"\",\"STR_NUM\":20407,\"STR_NUM_SF\":\"\",\"STR_NAME\":\"ARROW FIELD\",\"STR_SFX\":\"LN\",\"STR_SFX_DI\":\"\",\"STR_UNIT\":\"\",\"SITE_ADDR_\":\"20407 ARROW FIELD LN\",\"SITE_ADDR1\":\"KATY\",\"SITE_ADD_1\":\"77450\",\"STATE_CLAS\":\"A1\",\"SCHOOL_DIS\":\"19\",\"MAP_FACET\":\"4556C\",\"KEY_MAP\":\"486T\",\"NEIGHBORHO\":\"2915.08\",\"NEIGHBOR_1\":\"19015\",\"MARKET_ARE\":\"341\",\"MARKET_A_1\":\"ISD 19 - South of I-10 Katy Freeway\",\"MARKET_A_2\":\"341\",\"MARKET_A_3\":\"ISD 19 - South of I-10 Katy Freeway\",\"ECON_AREA\":\"\",\"ECON_BLD_C\":\"\",\"CENTER_COD\":\"90\",\"YR_IMPR\":\"2000\",\"YR_ANNEXED\":\"\",\"SPLT_DT\":\"\",\"DSC_CD\":\"\",\"NXT_BUILDI\":\"2\",\"TOTAL_BUIL\":\"2161\",\"TOTAL_LAND\":\"10298\",\"ACREAGE\":\".2364\",\"CAP_ACCOUN\":\"N\",\"SHARED_CAD\":\"Y\",\"LAND_VALUE\":\"41622\",\"IMPROVEMEN\":\"209721\",\"EXTRA_FEAT\":\"0\",\"AG_VALUE\":\"0\",\"ASSESSED_V\":\"251343\",\"TOTAL_APPR\":\"251343\",\"TOTAL_MARK\":\"251343\",\"PRIOR_LND_\":\"41622\",\"PRIOR_IMPR\":\"209721\",\"PRIOR_X_FE\":\"0\",\"PRIOR_AG_V\":\"0\",\"PRIOR_TOTA\":\"251343\",\"PRIOR_TO_1\":\"251343\",\"NEW_CONSTR\":\"0\",\"TOTAL_RCN_\":\"263198\",\"VALUE_STAT\":\"Noticed\",\"NOTICED\":\"Y\",\"NOTICE_DAT\":\"2017-03-31 00:00:00.000\",\"PROTESTED\":\"N\",\"CERTIFIED_\":\"2017-08-11 00:00:00.000\",\"LAST_INSPE\":\"2010-02-15 00:00:00.000\",\"LAST_INS_1\":\"01348\",\"NEW_OWNER_\":\"2001-02-23 00:00:00.000\",\"LEGAL_DSCR\":\"LT 3 BLK 3\",\"LEGAL_DS_1\":\"(HC* L 8% & I 0%)\",\"LEGAL_DS_2\":\"CINCO RANCH EQUESTRIAN VILLAGE SEC 3\",\"LEGAL_DS_3\":\"\",\"JURS\":\"Split Account: See Split Jurs\",\"ACCOUNT_1\":\"1202010030003\",\"BUILDING_N\":1,\"CODE\":\"4\",\"ADJ_CD\":\".810000\",\"STRUCTURE_\":\"CDU\",\"TYPE_DESCR\":\"Cond / Desir / Util\",\"CATEGORY_D\":\"Average\",\"STATE_CL_1\":\"A1\",\"ACCOUNT_12\":\"1202010030003\",\"LINE_NUMBE\":1,\"LAND_USE_C\":\"1001\",\"LAND_USE_D\":\"Res Improved Table Value\",\"SITE_CD\":\"SF1\",\"SITE_CD_DS\":\"Primary SF\",\"SITE_ADJ\":\"1.0000\",\"UNIT_TYPE\":\"SF\",\"UNITS\":\"7500.0000\",\"SIZE_FACTO\":\"1.0000\",\"SITE_FACT\":\"1.0000\",\"APPR_OVERR\":\"1.0000\",\"APPR_OVE_1\":\"\",\"TOT_ADJ\":\"1.0000\",\"UNIT_PRICE\":\"5.35\",\"ADJ_UNIT_P\":\"5.3500\",\"VALUE\":\"40125\",\"OVERRIDE_V\":\"\"}},"
   ]
  },
  {
   "cell_type": "code",
   "execution_count": 26,
   "metadata": {
    "collapsed": false
   },
   "outputs": [
    {
     "data": {
      "text/plain": [
       "<matplotlib.axes._subplots.AxesSubplot at 0x1919e7f60>"
      ]
     },
     "execution_count": 26,
     "metadata": {},
     "output_type": "execute_result"
    },
    {
     "data": {
      "image/png": "[encoded data removed]",
      "text/plain": [
       "<matplotlib.figure.Figure at 0x1919cf7b8>"
      ]
     },
     "metadata": {},
     "output_type": "display_data"
    }
   ],
   "source": [
    "### NOTE: This takes about 7-12 minutes to run.\n",
    "df.plot()"
   ]
  },
  {
   "cell_type": "code",
   "execution_count": 28,
   "metadata": {
    "collapsed": true
   },
   "outputs": [],
   "source": [
    "df_reduced = df[['ACCOUNT','HCAD_NUM','KEY_MAP','ACREAGE','CONDO_FLAG','LAND_USE_C','COUNTY','LAND_USE_D','LAND_VALUE','DMG_LEVEL','FIPS','IMPROVEMEN','IN_DEPTH','LATITUDE','LONGITUDE','LocNum','LocName','LocAddr','MAIL_CITY','city','MAIL_STATE','MAIL_ZIP','SCHOOL_DIS','NEIGHBORHO','NEIGHBOR_1','NEW_CONSTR','TAX_YEAR','TOTAL_APPR','TOTAL_BUIL','TOTAL_LAND','TOTAL_MARK','TOTAL_RCN_','UNITS','UNIT_PRICE','UNIT_TYPE','YR_IMPR']]"
   ]
  },
  {
   "cell_type": "code",
   "execution_count": 29,
   "metadata": {
    "collapsed": false
   },
   "outputs": [
    {
     "data": {
      "text/html": [
       "<div>\n",
       "<table border=\"1\" class=\"dataframe\">\n",
       "  <thead>\n",
       "    <tr style=\"text-align: right;\">\n",
       "      <th></th>\n",
       "      <th>ACCOUNT</th>\n",
       "      <th>HCAD_NUM</th>\n",
       "      <th>KEY_MAP</th>\n",
       "      <th>ACREAGE</th>\n",
       "      <th>CONDO_FLAG</th>\n",
       "      <th>LAND_USE_C</th>\n",
       "      <th>COUNTY</th>\n",
       "      <th>LAND_USE_D</th>\n",
       "      <th>LAND_VALUE</th>\n",
       "      <th>DMG_LEVEL</th>\n",
       "      <th>FIPS</th>\n",
       "      <th>IMPROVEMEN</th>\n",
       "      <th>IN_DEPTH</th>\n",
       "      <th>LATITUDE</th>\n",
       "      <th>LONGITUDE</th>\n",
       "      <th>LocNum</th>\n",
       "      <th>LocName</th>\n",
       "      <th>LocAddr</th>\n",
       "      <th>MAIL_CITY</th>\n",
       "      <th>city</th>\n",
       "      <th>MAIL_STATE</th>\n",
       "      <th>MAIL_ZIP</th>\n",
       "      <th>SCHOOL_DIS</th>\n",
       "      <th>NEIGHBORHO</th>\n",
       "      <th>NEIGHBOR_1</th>\n",
       "      <th>NEW_CONSTR</th>\n",
       "      <th>TAX_YEAR</th>\n",
       "      <th>TOTAL_APPR</th>\n",
       "      <th>TOTAL_BUIL</th>\n",
       "      <th>TOTAL_LAND</th>\n",
       "      <th>TOTAL_MARK</th>\n",
       "      <th>TOTAL_RCN_</th>\n",
       "      <th>UNITS</th>\n",
       "      <th>UNIT_PRICE</th>\n",
       "      <th>UNIT_TYPE</th>\n",
       "      <th>YR_IMPR</th>\n",
       "    </tr>\n",
       "  </thead>\n",
       "  <tbody>\n",
       "    <tr>\n",
       "      <th>0</th>\n",
       "      <td>1202010030003</td>\n",
       "      <td>1202010030003</td>\n",
       "      <td>486T</td>\n",
       "      <td>.2364</td>\n",
       "      <td>0</td>\n",
       "      <td>1001</td>\n",
       "      <td>Fort Bend</td>\n",
       "      <td>Res Improved Table Value</td>\n",
       "      <td>41622</td>\n",
       "      <td>AFF</td>\n",
       "      <td>48157</td>\n",
       "      <td>209721</td>\n",
       "      <td>0.189537</td>\n",
       "      <td>29.7358</td>\n",
       "      <td>-95.7323</td>\n",
       "      <td>20407</td>\n",
       "      <td>ARROW FIELD</td>\n",
       "      <td>20407 ARROW FIELD LN</td>\n",
       "      <td>KATY</td>\n",
       "      <td>KATY</td>\n",
       "      <td>TX</td>\n",
       "      <td>77450-7416</td>\n",
       "      <td>19</td>\n",
       "      <td>2915.08</td>\n",
       "      <td>19015</td>\n",
       "      <td>0</td>\n",
       "      <td>2017</td>\n",
       "      <td>251343</td>\n",
       "      <td>2161</td>\n",
       "      <td>10298</td>\n",
       "      <td>251343</td>\n",
       "      <td>263198</td>\n",
       "      <td>7500.0000</td>\n",
       "      <td>5.35</td>\n",
       "      <td>SF</td>\n",
       "      <td>2000</td>\n",
       "    </tr>\n",
       "    <tr>\n",
       "      <th>1</th>\n",
       "      <td>1202010030004</td>\n",
       "      <td>1202010030004</td>\n",
       "      <td>486T</td>\n",
       "      <td>.2001</td>\n",
       "      <td>0</td>\n",
       "      <td>1001</td>\n",
       "      <td>Fort Bend</td>\n",
       "      <td>Res Improved Table Value</td>\n",
       "      <td>40776</td>\n",
       "      <td>AFF</td>\n",
       "      <td>48157</td>\n",
       "      <td>232781</td>\n",
       "      <td>0.559052</td>\n",
       "      <td>29.7356</td>\n",
       "      <td>-95.7320</td>\n",
       "      <td>20403</td>\n",
       "      <td>ARROW FIELD</td>\n",
       "      <td>20403 ARROW FIELD LN</td>\n",
       "      <td>KATY</td>\n",
       "      <td>KATY</td>\n",
       "      <td>TX</td>\n",
       "      <td>77450-7416</td>\n",
       "      <td>19</td>\n",
       "      <td>2915.08</td>\n",
       "      <td>19015</td>\n",
       "      <td>0</td>\n",
       "      <td>2017</td>\n",
       "      <td>273557</td>\n",
       "      <td>2707</td>\n",
       "      <td>8717</td>\n",
       "      <td>273557</td>\n",
       "      <td>292149</td>\n",
       "      <td>7500.0000</td>\n",
       "      <td>5.35</td>\n",
       "      <td>SF</td>\n",
       "      <td>2000</td>\n",
       "    </tr>\n",
       "    <tr>\n",
       "      <th>2</th>\n",
       "      <td>0402830000004</td>\n",
       "      <td>0402830000004</td>\n",
       "      <td>381A</td>\n",
       "      <td>1.1946</td>\n",
       "      <td>0</td>\n",
       "      <td>2003</td>\n",
       "      <td>Liberty</td>\n",
       "      <td>Res Improved Override (Res. Use)</td>\n",
       "      <td>28620</td>\n",
       "      <td>MAJ</td>\n",
       "      <td>48291</td>\n",
       "      <td>269280</td>\n",
       "      <td>5.530396</td>\n",
       "      <td>29.9814</td>\n",
       "      <td>-94.9968</td>\n",
       "      <td>20950</td>\n",
       "      <td>SHADY</td>\n",
       "      <td>20950 SHADY LN</td>\n",
       "      <td>CROSBY</td>\n",
       "      <td>CROSBY</td>\n",
       "      <td>TX</td>\n",
       "      <td>77532-6610</td>\n",
       "      <td>05</td>\n",
       "      <td>2255.05</td>\n",
       "      <td>5051</td>\n",
       "      <td>0</td>\n",
       "      <td>2017</td>\n",
       "      <td>298000</td>\n",
       "      <td>3114</td>\n",
       "      <td>52036</td>\n",
       "      <td>298000</td>\n",
       "      <td>363454</td>\n",
       "      <td>1.1946</td>\n",
       "      <td>23958.00</td>\n",
       "      <td>AC</td>\n",
       "      <td>2005</td>\n",
       "    </tr>\n",
       "    <tr>\n",
       "      <th>3</th>\n",
       "      <td>1068480000011</td>\n",
       "      <td>1068480000011</td>\n",
       "      <td>448F</td>\n",
       "      <td>.1931</td>\n",
       "      <td>0</td>\n",
       "      <td>1001</td>\n",
       "      <td>Harris</td>\n",
       "      <td>Res Improved Table Value</td>\n",
       "      <td>25050</td>\n",
       "      <td>MIN</td>\n",
       "      <td>48201</td>\n",
       "      <td>143489</td>\n",
       "      <td>2.645287</td>\n",
       "      <td>29.8407</td>\n",
       "      <td>-95.6359</td>\n",
       "      <td>15702</td>\n",
       "      <td>TUMBLING RAPIDS</td>\n",
       "      <td>15702 TUMBLING RAPIDS DR</td>\n",
       "      <td>CYPRESS</td>\n",
       "      <td>HOUSTON</td>\n",
       "      <td>TX</td>\n",
       "      <td>77429-3851</td>\n",
       "      <td>19</td>\n",
       "      <td>2906.00</td>\n",
       "      <td>19036</td>\n",
       "      <td>0</td>\n",
       "      <td>2017</td>\n",
       "      <td>168539</td>\n",
       "      <td>2160</td>\n",
       "      <td>8410</td>\n",
       "      <td>168539</td>\n",
       "      <td>220753</td>\n",
       "      <td>7500.0000</td>\n",
       "      <td>3.30</td>\n",
       "      <td>SF</td>\n",
       "      <td>1976</td>\n",
       "    </tr>\n",
       "    <tr>\n",
       "      <th>4</th>\n",
       "      <td>1142710060011</td>\n",
       "      <td>1142710060011</td>\n",
       "      <td>448E</td>\n",
       "      <td>.2011</td>\n",
       "      <td>0</td>\n",
       "      <td>1001</td>\n",
       "      <td>Harris</td>\n",
       "      <td>Res Improved Table Value</td>\n",
       "      <td>22911</td>\n",
       "      <td>AFF</td>\n",
       "      <td>48201</td>\n",
       "      <td>96345</td>\n",
       "      <td>0.772430</td>\n",
       "      <td>29.8344</td>\n",
       "      <td>-95.6506</td>\n",
       "      <td>4142</td>\n",
       "      <td>SCONE</td>\n",
       "      <td>4142 SCONE ST</td>\n",
       "      <td>HOUSTON</td>\n",
       "      <td>HOUSTON</td>\n",
       "      <td>TX</td>\n",
       "      <td>77084-4073</td>\n",
       "      <td>19</td>\n",
       "      <td>2897.00</td>\n",
       "      <td>19038</td>\n",
       "      <td>0</td>\n",
       "      <td>2017</td>\n",
       "      <td>113580</td>\n",
       "      <td>1647</td>\n",
       "      <td>8760</td>\n",
       "      <td>120319</td>\n",
       "      <td>169027</td>\n",
       "      <td>6300.0000</td>\n",
       "      <td>3.50</td>\n",
       "      <td>SF</td>\n",
       "      <td>1979</td>\n",
       "    </tr>\n",
       "  </tbody>\n",
       "</table>\n",
       "</div>"
      ],
      "text/plain": [
       "         ACCOUNT       HCAD_NUM KEY_MAP ACREAGE CONDO_FLAG LAND_USE_C  \\\n",
       "0  1202010030003  1202010030003    486T   .2364          0       1001   \n",
       "1  1202010030004  1202010030004    486T   .2001          0       1001   \n",
       "2  0402830000004  0402830000004    381A  1.1946          0       2003   \n",
       "3  1068480000011  1068480000011    448F   .1931          0       1001   \n",
       "4  1142710060011  1142710060011    448E   .2011          0       1001   \n",
       "\n",
       "      COUNTY                        LAND_USE_D LAND_VALUE DMG_LEVEL   FIPS  \\\n",
       "0  Fort Bend          Res Improved Table Value      41622       AFF  48157   \n",
       "1  Fort Bend          Res Improved Table Value      40776       AFF  48157   \n",
       "2    Liberty  Res Improved Override (Res. Use)      28620       MAJ  48291   \n",
       "3     Harris          Res Improved Table Value      25050       MIN  48201   \n",
       "4     Harris          Res Improved Table Value      22911       AFF  48201   \n",
       "\n",
       "  IMPROVEMEN  IN_DEPTH  LATITUDE  LONGITUDE  LocNum          LocName  \\\n",
       "0     209721  0.189537   29.7358   -95.7323   20407      ARROW FIELD   \n",
       "1     232781  0.559052   29.7356   -95.7320   20403      ARROW FIELD   \n",
       "2     269280  5.530396   29.9814   -94.9968   20950            SHADY   \n",
       "3     143489  2.645287   29.8407   -95.6359   15702  TUMBLING RAPIDS   \n",
       "4      96345  0.772430   29.8344   -95.6506    4142            SCONE   \n",
       "\n",
       "                    LocAddr MAIL_CITY     city MAIL_STATE    MAIL_ZIP  \\\n",
       "0      20407 ARROW FIELD LN      KATY     KATY         TX  77450-7416   \n",
       "1      20403 ARROW FIELD LN      KATY     KATY         TX  77450-7416   \n",
       "2            20950 SHADY LN    CROSBY   CROSBY         TX  77532-6610   \n",
       "3  15702 TUMBLING RAPIDS DR   CYPRESS  HOUSTON         TX  77429-3851   \n",
       "4             4142 SCONE ST   HOUSTON  HOUSTON         TX  77084-4073   \n",
       "\n",
       "  SCHOOL_DIS NEIGHBORHO NEIGHBOR_1 NEW_CONSTR TAX_YEAR TOTAL_APPR TOTAL_BUIL  \\\n",
       "0         19    2915.08      19015          0     2017     251343       2161   \n",
       "1         19    2915.08      19015          0     2017     273557       2707   \n",
       "2         05    2255.05       5051          0     2017     298000       3114   \n",
       "3         19    2906.00      19036          0     2017     168539       2160   \n",
       "4         19    2897.00      19038          0     2017     113580       1647   \n",
       "\n",
       "  TOTAL_LAND TOTAL_MARK TOTAL_RCN_      UNITS UNIT_PRICE UNIT_TYPE YR_IMPR  \n",
       "0      10298     251343     263198  7500.0000       5.35        SF    2000  \n",
       "1       8717     273557     292149  7500.0000       5.35        SF    2000  \n",
       "2      52036     298000     363454     1.1946   23958.00        AC    2005  \n",
       "3       8410     168539     220753  7500.0000       3.30        SF    1976  \n",
       "4       8760     120319     169027  6300.0000       3.50        SF    1979  "
      ]
     },
     "execution_count": 29,
     "metadata": {},
     "output_type": "execute_result"
    }
   ],
   "source": [
    "df_reduced.head()"
   ]
  },
  {
   "cell_type": "code",
   "execution_count": 40,
   "metadata": {
    "collapsed": false
   },
   "outputs": [
    {
     "data": {
      "text/plain": [
       "pandas.core.frame.DataFrame"
      ]
     },
     "execution_count": 40,
     "metadata": {},
     "output_type": "execute_result"
    }
   ],
   "source": [
    "type(df_reduced)"
   ]
  },
  {
   "cell_type": "code",
   "execution_count": 30,
   "metadata": {
    "collapsed": false
   },
   "outputs": [
    {
     "data": {
      "text/plain": [
       "<matplotlib.axes._subplots.AxesSubplot at 0x1ea507a58>"
      ]
     },
     "execution_count": 30,
     "metadata": {},
     "output_type": "execute_result"
    },
    {
     "data": {
      "image/png": "[encoded data removed]",
      "text/plain": [
       "<matplotlib.figure.Figure at 0x1ea50fb70>"
      ]
     },
     "metadata": {},
     "output_type": "display_data"
    }
   ],
   "source": [
    "### NOTE: This takes about 7-12 minutes to run.\n",
    "df.plot()"
   ]
  },
  {
   "cell_type": "code",
   "execution_count": 36,
   "metadata": {
    "collapsed": false
   },
   "outputs": [
    {
     "data": {
      "text/plain": [
       "array(['KATY', 'CROSBY', 'HOUSTON', 'BAYTOWN', 'CHANNELVIEW', 'HIGHLANDS',\n",
       "       '', 'SPRING', 'HUMBLE', 'KINGWOOD', 'TOMBALL', 'CYPRESS', 'HUFFMAN',\n",
       "       'NEW CANEY', 'PORTER', 'HOCKLEY', 'DAYTON', 'GALENA PARK',\n",
       "       'LA PORTE', 'BELLAIRE', 'PASADENA', 'SEABROOK', 'FRIENDSWOOD',\n",
       "       'WEBSTER', 'SOUTH HOUSTON', 'PEARLAND', 'STAFFORD', 'LEAGUE CITY',\n",
       "       'NONE', 'NASSAU BAY', 'DEER PARK'], dtype=object)"
      ]
     },
     "execution_count": 36,
     "metadata": {},
     "output_type": "execute_result"
    }
   ],
   "source": [
    "df_reduced.city.unique()"
   ]
  },
  {
   "cell_type": "code",
   "execution_count": 32,
   "metadata": {
    "collapsed": false
   },
   "outputs": [
    {
     "data": {
      "text/html": [
       "<div>\n",
       "<table border=\"1\" class=\"dataframe\">\n",
       "  <thead>\n",
       "    <tr style=\"text-align: right;\">\n",
       "      <th></th>\n",
       "      <th>ACCOUNT</th>\n",
       "      <th>HCAD_NUM</th>\n",
       "      <th>KEY_MAP</th>\n",
       "      <th>ACREAGE</th>\n",
       "      <th>CONDO_FLAG</th>\n",
       "      <th>LAND_USE_C</th>\n",
       "      <th>COUNTY</th>\n",
       "      <th>LAND_USE_D</th>\n",
       "      <th>LAND_VALUE</th>\n",
       "      <th>DMG_LEVEL</th>\n",
       "      <th>FIPS</th>\n",
       "      <th>IMPROVEMEN</th>\n",
       "      <th>IN_DEPTH</th>\n",
       "      <th>LATITUDE</th>\n",
       "      <th>LONGITUDE</th>\n",
       "      <th>LocNum</th>\n",
       "      <th>LocName</th>\n",
       "      <th>LocAddr</th>\n",
       "      <th>MAIL_CITY</th>\n",
       "      <th>city</th>\n",
       "      <th>MAIL_STATE</th>\n",
       "      <th>MAIL_ZIP</th>\n",
       "      <th>SCHOOL_DIS</th>\n",
       "      <th>NEIGHBORHO</th>\n",
       "      <th>NEIGHBOR_1</th>\n",
       "      <th>NEW_CONSTR</th>\n",
       "      <th>TAX_YEAR</th>\n",
       "      <th>TOTAL_APPR</th>\n",
       "      <th>TOTAL_BUIL</th>\n",
       "      <th>TOTAL_LAND</th>\n",
       "      <th>TOTAL_MARK</th>\n",
       "      <th>TOTAL_RCN_</th>\n",
       "      <th>UNITS</th>\n",
       "      <th>UNIT_PRICE</th>\n",
       "      <th>UNIT_TYPE</th>\n",
       "      <th>YR_IMPR</th>\n",
       "    </tr>\n",
       "  </thead>\n",
       "  <tbody>\n",
       "    <tr>\n",
       "      <th>0</th>\n",
       "      <td>1202010030003</td>\n",
       "      <td>1202010030003</td>\n",
       "      <td>486T</td>\n",
       "      <td>.2364</td>\n",
       "      <td>0</td>\n",
       "      <td>1001</td>\n",
       "      <td>Fort Bend</td>\n",
       "      <td>Res Improved Table Value</td>\n",
       "      <td>41622</td>\n",
       "      <td>AFF</td>\n",
       "      <td>48157</td>\n",
       "      <td>209721</td>\n",
       "      <td>0.189537</td>\n",
       "      <td>29.7358</td>\n",
       "      <td>-95.7323</td>\n",
       "      <td>20407</td>\n",
       "      <td>ARROW FIELD</td>\n",
       "      <td>20407 ARROW FIELD LN</td>\n",
       "      <td>KATY</td>\n",
       "      <td>KATY</td>\n",
       "      <td>TX</td>\n",
       "      <td>77450-7416</td>\n",
       "      <td>19</td>\n",
       "      <td>2915.08</td>\n",
       "      <td>19015</td>\n",
       "      <td>0</td>\n",
       "      <td>2017</td>\n",
       "      <td>251343</td>\n",
       "      <td>2161</td>\n",
       "      <td>10298</td>\n",
       "      <td>251343</td>\n",
       "      <td>263198</td>\n",
       "      <td>7500.0000</td>\n",
       "      <td>5.35</td>\n",
       "      <td>SF</td>\n",
       "      <td>2000</td>\n",
       "    </tr>\n",
       "    <tr>\n",
       "      <th>1</th>\n",
       "      <td>1202010030004</td>\n",
       "      <td>1202010030004</td>\n",
       "      <td>486T</td>\n",
       "      <td>.2001</td>\n",
       "      <td>0</td>\n",
       "      <td>1001</td>\n",
       "      <td>Fort Bend</td>\n",
       "      <td>Res Improved Table Value</td>\n",
       "      <td>40776</td>\n",
       "      <td>AFF</td>\n",
       "      <td>48157</td>\n",
       "      <td>232781</td>\n",
       "      <td>0.559052</td>\n",
       "      <td>29.7356</td>\n",
       "      <td>-95.7320</td>\n",
       "      <td>20403</td>\n",
       "      <td>ARROW FIELD</td>\n",
       "      <td>20403 ARROW FIELD LN</td>\n",
       "      <td>KATY</td>\n",
       "      <td>KATY</td>\n",
       "      <td>TX</td>\n",
       "      <td>77450-7416</td>\n",
       "      <td>19</td>\n",
       "      <td>2915.08</td>\n",
       "      <td>19015</td>\n",
       "      <td>0</td>\n",
       "      <td>2017</td>\n",
       "      <td>273557</td>\n",
       "      <td>2707</td>\n",
       "      <td>8717</td>\n",
       "      <td>273557</td>\n",
       "      <td>292149</td>\n",
       "      <td>7500.0000</td>\n",
       "      <td>5.35</td>\n",
       "      <td>SF</td>\n",
       "      <td>2000</td>\n",
       "    </tr>\n",
       "    <tr>\n",
       "      <th>114</th>\n",
       "      <td>0220120000001</td>\n",
       "      <td>0220120000001</td>\n",
       "      <td>444Y</td>\n",
       "      <td>1.2186</td>\n",
       "      <td>0</td>\n",
       "      <td>2000</td>\n",
       "      <td>Fort Bend</td>\n",
       "      <td>Res Vacant Override</td>\n",
       "      <td>212328</td>\n",
       "      <td>AFF</td>\n",
       "      <td>48157</td>\n",
       "      <td>0</td>\n",
       "      <td>1.050186</td>\n",
       "      <td>29.7878</td>\n",
       "      <td>-95.8250</td>\n",
       "      <td>0</td>\n",
       "      <td>THIRD</td>\n",
       "      <td>0 THIRD ST</td>\n",
       "      <td>KATY</td>\n",
       "      <td>KATY</td>\n",
       "      <td>TX</td>\n",
       "      <td>77492-0147</td>\n",
       "      <td>19</td>\n",
       "      <td>2923.02</td>\n",
       "      <td>19001</td>\n",
       "      <td>0</td>\n",
       "      <td>2017</td>\n",
       "      <td>212328</td>\n",
       "      <td>0</td>\n",
       "      <td>53082</td>\n",
       "      <td>212328</td>\n",
       "      <td>0</td>\n",
       "      <td>53082.0000</td>\n",
       "      <td>7.00</td>\n",
       "      <td>SF</td>\n",
       "      <td></td>\n",
       "    </tr>\n",
       "    <tr>\n",
       "      <th>150</th>\n",
       "      <td>1202010010026</td>\n",
       "      <td>1202010010026</td>\n",
       "      <td>486T</td>\n",
       "      <td>1.1930</td>\n",
       "      <td>0</td>\n",
       "      <td></td>\n",
       "      <td>Fort Bend</td>\n",
       "      <td></td>\n",
       "      <td>2598</td>\n",
       "      <td>AFF</td>\n",
       "      <td>48157</td>\n",
       "      <td>0</td>\n",
       "      <td>0.189056</td>\n",
       "      <td>29.7363</td>\n",
       "      <td>-95.7335</td>\n",
       "      <td>0</td>\n",
       "      <td>FRY</td>\n",
       "      <td>0 S  FRY BLVD</td>\n",
       "      <td>KATY</td>\n",
       "      <td>KATY</td>\n",
       "      <td>TX</td>\n",
       "      <td>77494-4569</td>\n",
       "      <td>19</td>\n",
       "      <td>2915.08</td>\n",
       "      <td>19015</td>\n",
       "      <td>0</td>\n",
       "      <td>2017</td>\n",
       "      <td>100</td>\n",
       "      <td>0</td>\n",
       "      <td>51967</td>\n",
       "      <td>2598</td>\n",
       "      <td>0</td>\n",
       "      <td></td>\n",
       "      <td></td>\n",
       "      <td></td>\n",
       "      <td></td>\n",
       "    </tr>\n",
       "    <tr>\n",
       "      <th>154</th>\n",
       "      <td>1276020010018</td>\n",
       "      <td>1276020010018</td>\n",
       "      <td>446D</td>\n",
       "      <td>.1188</td>\n",
       "      <td>0</td>\n",
       "      <td>1001</td>\n",
       "      <td>Harris</td>\n",
       "      <td>Res Improved Table Value</td>\n",
       "      <td>21477</td>\n",
       "      <td>AFF</td>\n",
       "      <td>48201</td>\n",
       "      <td>127523</td>\n",
       "      <td>0.657578</td>\n",
       "      <td>29.8477</td>\n",
       "      <td>-95.7075</td>\n",
       "      <td>5039</td>\n",
       "      <td>RUSTLING BRANCH</td>\n",
       "      <td>5039 RUSTLING BRANCH LN</td>\n",
       "      <td>SCOTTSDALE</td>\n",
       "      <td>KATY</td>\n",
       "      <td>AZ</td>\n",
       "      <td>85261-4090</td>\n",
       "      <td>04</td>\n",
       "      <td>194.02</td>\n",
       "      <td>4054</td>\n",
       "      <td>0</td>\n",
       "      <td>2017</td>\n",
       "      <td>149000</td>\n",
       "      <td>1664</td>\n",
       "      <td>5175</td>\n",
       "      <td>149000</td>\n",
       "      <td>151949</td>\n",
       "      <td>5040.0000</td>\n",
       "      <td>4.25</td>\n",
       "      <td>SF</td>\n",
       "      <td>2006</td>\n",
       "    </tr>\n",
       "  </tbody>\n",
       "</table>\n",
       "</div>"
      ],
      "text/plain": [
       "           ACCOUNT       HCAD_NUM KEY_MAP ACREAGE CONDO_FLAG LAND_USE_C  \\\n",
       "0    1202010030003  1202010030003    486T   .2364          0       1001   \n",
       "1    1202010030004  1202010030004    486T   .2001          0       1001   \n",
       "114  0220120000001  0220120000001    444Y  1.2186          0       2000   \n",
       "150  1202010010026  1202010010026    486T  1.1930          0              \n",
       "154  1276020010018  1276020010018    446D   .1188          0       1001   \n",
       "\n",
       "        COUNTY                LAND_USE_D LAND_VALUE DMG_LEVEL   FIPS  \\\n",
       "0    Fort Bend  Res Improved Table Value      41622       AFF  48157   \n",
       "1    Fort Bend  Res Improved Table Value      40776       AFF  48157   \n",
       "114  Fort Bend       Res Vacant Override     212328       AFF  48157   \n",
       "150  Fort Bend                                 2598       AFF  48157   \n",
       "154     Harris  Res Improved Table Value      21477       AFF  48201   \n",
       "\n",
       "    IMPROVEMEN  IN_DEPTH  LATITUDE  LONGITUDE  LocNum          LocName  \\\n",
       "0       209721  0.189537   29.7358   -95.7323   20407      ARROW FIELD   \n",
       "1       232781  0.559052   29.7356   -95.7320   20403      ARROW FIELD   \n",
       "114          0  1.050186   29.7878   -95.8250       0            THIRD   \n",
       "150          0  0.189056   29.7363   -95.7335       0              FRY   \n",
       "154     127523  0.657578   29.8477   -95.7075    5039  RUSTLING BRANCH   \n",
       "\n",
       "                     LocAddr   MAIL_CITY  city MAIL_STATE    MAIL_ZIP  \\\n",
       "0       20407 ARROW FIELD LN        KATY  KATY         TX  77450-7416   \n",
       "1       20403 ARROW FIELD LN        KATY  KATY         TX  77450-7416   \n",
       "114               0 THIRD ST        KATY  KATY         TX  77492-0147   \n",
       "150            0 S  FRY BLVD        KATY  KATY         TX  77494-4569   \n",
       "154  5039 RUSTLING BRANCH LN  SCOTTSDALE  KATY         AZ  85261-4090   \n",
       "\n",
       "    SCHOOL_DIS NEIGHBORHO NEIGHBOR_1 NEW_CONSTR TAX_YEAR TOTAL_APPR  \\\n",
       "0           19    2915.08      19015          0     2017     251343   \n",
       "1           19    2915.08      19015          0     2017     273557   \n",
       "114         19    2923.02      19001          0     2017     212328   \n",
       "150         19    2915.08      19015          0     2017        100   \n",
       "154         04     194.02       4054          0     2017     149000   \n",
       "\n",
       "    TOTAL_BUIL TOTAL_LAND TOTAL_MARK TOTAL_RCN_       UNITS UNIT_PRICE  \\\n",
       "0         2161      10298     251343     263198   7500.0000       5.35   \n",
       "1         2707       8717     273557     292149   7500.0000       5.35   \n",
       "114          0      53082     212328          0  53082.0000       7.00   \n",
       "150          0      51967       2598          0                          \n",
       "154       1664       5175     149000     151949   5040.0000       4.25   \n",
       "\n",
       "    UNIT_TYPE YR_IMPR  \n",
       "0          SF    2000  \n",
       "1          SF    2000  \n",
       "114        SF          \n",
       "150                    \n",
       "154        SF    2006  "
      ]
     },
     "execution_count": 32,
     "metadata": {},
     "output_type": "execute_result"
    }
   ],
   "source": [
    "# make a dataframe from reduced data frame that is only katy.\n",
    "df_reduced_katy = df_reduced[df_reduced['city'].str.contains(\"KATY\")]\n",
    "df_reduced_katy.head()"
   ]
  },
  {
   "cell_type": "code",
   "execution_count": 33,
   "metadata": {
    "collapsed": false
   },
   "outputs": [
    {
     "data": {
      "text/html": [
       "<div>\n",
       "<table border=\"1\" class=\"dataframe\">\n",
       "  <thead>\n",
       "    <tr style=\"text-align: right;\">\n",
       "      <th></th>\n",
       "      <th>FIPS</th>\n",
       "      <th>IN_DEPTH</th>\n",
       "      <th>LATITUDE</th>\n",
       "      <th>LONGITUDE</th>\n",
       "      <th>LocNum</th>\n",
       "    </tr>\n",
       "  </thead>\n",
       "  <tbody>\n",
       "    <tr>\n",
       "      <th>count</th>\n",
       "      <td>1750.000000</td>\n",
       "      <td>1750.000000</td>\n",
       "      <td>1750.000000</td>\n",
       "      <td>1750.000000</td>\n",
       "      <td>1750.000000</td>\n",
       "    </tr>\n",
       "    <tr>\n",
       "      <th>mean</th>\n",
       "      <td>48203.541714</td>\n",
       "      <td>1.174577</td>\n",
       "      <td>29.846157</td>\n",
       "      <td>-95.731629</td>\n",
       "      <td>10351.461143</td>\n",
       "    </tr>\n",
       "    <tr>\n",
       "      <th>std</th>\n",
       "      <td>26.778280</td>\n",
       "      <td>1.226383</td>\n",
       "      <td>0.027704</td>\n",
       "      <td>0.036152</td>\n",
       "      <td>7456.348007</td>\n",
       "    </tr>\n",
       "    <tr>\n",
       "      <th>min</th>\n",
       "      <td>48157.000000</td>\n",
       "      <td>0.003906</td>\n",
       "      <td>29.735600</td>\n",
       "      <td>-95.848800</td>\n",
       "      <td>0.000000</td>\n",
       "    </tr>\n",
       "    <tr>\n",
       "      <th>25%</th>\n",
       "      <td>48201.000000</td>\n",
       "      <td>0.409264</td>\n",
       "      <td>29.849600</td>\n",
       "      <td>-95.729600</td>\n",
       "      <td>5515.000000</td>\n",
       "    </tr>\n",
       "    <tr>\n",
       "      <th>50%</th>\n",
       "      <td>48201.000000</td>\n",
       "      <td>0.840714</td>\n",
       "      <td>29.852600</td>\n",
       "      <td>-95.721800</td>\n",
       "      <td>5735.000000</td>\n",
       "    </tr>\n",
       "    <tr>\n",
       "      <th>75%</th>\n",
       "      <td>48201.000000</td>\n",
       "      <td>1.585253</td>\n",
       "      <td>29.855800</td>\n",
       "      <td>-95.710700</td>\n",
       "      <td>19703.000000</td>\n",
       "    </tr>\n",
       "    <tr>\n",
       "      <th>max</th>\n",
       "      <td>48473.000000</td>\n",
       "      <td>13.828423</td>\n",
       "      <td>29.904500</td>\n",
       "      <td>-95.692300</td>\n",
       "      <td>27711.000000</td>\n",
       "    </tr>\n",
       "  </tbody>\n",
       "</table>\n",
       "</div>"
      ],
      "text/plain": [
       "               FIPS     IN_DEPTH     LATITUDE    LONGITUDE        LocNum\n",
       "count   1750.000000  1750.000000  1750.000000  1750.000000   1750.000000\n",
       "mean   48203.541714     1.174577    29.846157   -95.731629  10351.461143\n",
       "std       26.778280     1.226383     0.027704     0.036152   7456.348007\n",
       "min    48157.000000     0.003906    29.735600   -95.848800      0.000000\n",
       "25%    48201.000000     0.409264    29.849600   -95.729600   5515.000000\n",
       "50%    48201.000000     0.840714    29.852600   -95.721800   5735.000000\n",
       "75%    48201.000000     1.585253    29.855800   -95.710700  19703.000000\n",
       "max    48473.000000    13.828423    29.904500   -95.692300  27711.000000"
      ]
     },
     "execution_count": 33,
     "metadata": {},
     "output_type": "execute_result"
    }
   ],
   "source": [
    "df_reduced_katy.describe()"
   ]
  },
  {
   "cell_type": "markdown",
   "metadata": {},
   "source": [
    "### Writing to file the reduced geojson for only the city of KATY"
   ]
  },
  {
   "cell_type": "code",
   "execution_count": 39,
   "metadata": {
    "collapsed": false
   },
   "outputs": [
    {
     "data": {
      "text/plain": [
       "pandas.core.frame.DataFrame"
      ]
     },
     "execution_count": 39,
     "metadata": {},
     "output_type": "execute_result"
    }
   ],
   "source": [
    "type(df_reduced_katy)"
   ]
  },
  {
   "cell_type": "code",
   "execution_count": 66,
   "metadata": {
    "collapsed": false
   },
   "outputs": [
    {
     "data": {
      "text/plain": [
       "geopandas.geodataframe.GeoDataFrame"
      ]
     },
     "execution_count": 66,
     "metadata": {},
     "output_type": "execute_result"
    }
   ],
   "source": [
    "geometry = [Point(xy) for xy in zip(df_reduced_katy.LONGITUDE, df_reduced_katy.LATITUDE)]\n",
    "crs = {'init':'epsg:4326'}\n",
    "df_reduced_katy_gpd = gpd.GeoDataFrame(df_reduced_katy, crs=crs, geometry=geometry)\n",
    "type(df_reduced_katy_gpd)"
   ]
  },
  {
   "cell_type": "code",
   "execution_count": 67,
   "metadata": {
    "collapsed": true
   },
   "outputs": [],
   "source": [
    "katy_out = data_path+\"/Harvey_FEMA_HCAD_Damage_reduced_katy2.geojson\""
   ]
  },
  {
   "cell_type": "code",
   "execution_count": 68,
   "metadata": {
    "collapsed": false
   },
   "outputs": [],
   "source": [
    "df_reduced_katy_gpd.to_file(katy_out, driver='GeoJSON')"
   ]
  },
  {
   "cell_type": "code",
   "execution_count": 82,
   "metadata": {
    "collapsed": false
   },
   "outputs": [
    {
     "data": {
      "text/plain": [
       "<matplotlib.axes._subplots.AxesSubplot at 0x23f449160>"
      ]
     },
     "execution_count": 82,
     "metadata": {},
     "output_type": "execute_result"
    },
    {
     "data": {
      "image/png": "[encoded data removed]",
      "text/plain": [
       "<matplotlib.figure.Figure at 0x23f449a58>"
      ]
     },
     "metadata": {},
     "output_type": "display_data"
    }
   ],
   "source": [
    "df_reduced_katy_gpd.plot()"
   ]
  },
  {
   "cell_type": "markdown",
   "metadata": {},
   "source": [
    "### Writing to file the reduced geojson for all of Harris County"
   ]
  },
  {
   "cell_type": "code",
   "execution_count": 77,
   "metadata": {
    "collapsed": false
   },
   "outputs": [
    {
     "data": {
      "text/plain": [
       "geopandas.geodataframe.GeoDataFrame"
      ]
     },
     "execution_count": 77,
     "metadata": {},
     "output_type": "execute_result"
    }
   ],
   "source": [
    "# df_reduced\n",
    "geometry = [Point(xy) for xy in zip(df_reduced.LONGITUDE, df_reduced.LATITUDE)]\n",
    "crs = {'init':'epsg:4326'}\n",
    "df_reduced_gpd = gpd.GeoDataFrame(df_reduced, crs=crs, geometry=geometry)\n",
    "type(df_reduced_gpd)"
   ]
  },
  {
   "cell_type": "code",
   "execution_count": 80,
   "metadata": {
    "collapsed": true
   },
   "outputs": [],
   "source": [
    "reduced_out = data_path+\"/Harvey_FEMA_HCAD_Damage_reduced.geojson\""
   ]
  },
  {
   "cell_type": "code",
   "execution_count": 81,
   "metadata": {
    "collapsed": false
   },
   "outputs": [],
   "source": [
    "df_reduced_gpd.to_file(reduced_out, driver='GeoJSON')"
   ]
  },
  {
   "cell_type": "code",
   "execution_count": null,
   "metadata": {
    "collapsed": true
   },
   "outputs": [],
   "source": []
  }
 ],
 "metadata": {
  "kernelspec": {
   "display_name": "Python 3",
   "language": "python",
   "name": "python3"
  },
  "language_info": {
   "codemirror_mode": {
    "name": "ipython",
    "version": 3
   },
   "file_extension": ".py",
   "mimetype": "text/x-python",
   "name": "python",
   "nbconvert_exporter": "python",
   "pygments_lexer": "ipython3",
   "version": "3.5.2"
  }
 },
 "nbformat": 4,
 "nbformat_minor": 2
}
