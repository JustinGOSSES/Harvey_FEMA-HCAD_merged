{
 "cells": [
  {
   "cell_type": "code",
   "execution_count": 1,
   "metadata": {
    "collapsed": false
   },
   "outputs": [],
   "source": [
    "%matplotlib inline\n",
    "from shapely.geometry import Point, Polygon\n",
    "import geopandas as gpd\n",
    "import os\n",
    "import matplotlib as mpl\n",
    "import matplotlib.pyplot as plt\n",
    "from shapely.geometry import Point\n",
    "import pandas as pd\n",
    "import geopandas as gpd\n",
    "from geopandas import GeoSeries, GeoDataFrame\n",
    "import rtree"
   ]
  },
  {
   "cell_type": "code",
   "execution_count": 2,
   "metadata": {
    "collapsed": false
   },
   "outputs": [
    {
     "data": {
      "text/plain": [
       "('1.5.1', '0.19.2', '0.2.1')"
      ]
     },
     "execution_count": 2,
     "metadata": {},
     "output_type": "execute_result"
    }
   ],
   "source": [
    "mpl.__version__, pd.__version__, gpd.__version__"
   ]
  },
  {
   "cell_type": "markdown",
   "metadata": {},
   "source": [
    "## Point of this notebook was to make watershed specific geojsons"
   ]
  },
  {
   "cell_type": "code",
   "execution_count": null,
   "metadata": {
    "collapsed": true
   },
   "outputs": [],
   "source": []
  },
  {
   "cell_type": "code",
   "execution_count": 3,
   "metadata": {
    "collapsed": true
   },
   "outputs": [],
   "source": [
    "data_path = \"../big_data_leave\""
   ]
  },
  {
   "cell_type": "markdown",
   "metadata": {},
   "source": [
    "### Loading the watersheds + FEMA + HCAD reduced geojson"
   ]
  },
  {
   "cell_type": "code",
   "execution_count": 4,
   "metadata": {
    "collapsed": true
   },
   "outputs": [],
   "source": [
    "file_r_ws = \"/Harvey_FEMA_HCAD_Damage_reduced_ws.geojson\"\n",
    "filePath_r_ws = data_path+file_r_ws\n",
    "df_r_ws = gpd.read_file(filePath_r_ws)"
   ]
  },
  {
   "cell_type": "code",
   "execution_count": 5,
   "metadata": {
    "collapsed": false
   },
   "outputs": [
    {
     "name": "stdout",
     "output_type": "stream",
     "text": [
      "<class 'geopandas.geodataframe.GeoDataFrame'>\n"
     ]
    }
   ],
   "source": [
    "print(type(df_r_ws))"
   ]
  },
  {
   "cell_type": "code",
   "execution_count": 6,
   "metadata": {
    "collapsed": false
   },
   "outputs": [
    {
     "data": {
      "text/html": [
       "<div>\n",
       "<table border=\"1\" class=\"dataframe\">\n",
       "  <thead>\n",
       "    <tr style=\"text-align: right;\">\n",
       "      <th></th>\n",
       "      <th>ACCOUNT</th>\n",
       "      <th>ACREAGE</th>\n",
       "      <th>CONDO_FLAG</th>\n",
       "      <th>COUNTY</th>\n",
       "      <th>DMG_LEVEL</th>\n",
       "      <th>FIPS</th>\n",
       "      <th>HCAD_NUM</th>\n",
       "      <th>IMPROVEMEN</th>\n",
       "      <th>IN_DEPTH</th>\n",
       "      <th>KEY_MAP</th>\n",
       "      <th>...</th>\n",
       "      <th>UNITS</th>\n",
       "      <th>UNIT_PRICE</th>\n",
       "      <th>UNIT_TYPE</th>\n",
       "      <th>WTSHNAME</th>\n",
       "      <th>WTSHUNIT</th>\n",
       "      <th>YR_IMPR</th>\n",
       "      <th>city</th>\n",
       "      <th>cohgis_COU</th>\n",
       "      <th>geometry</th>\n",
       "      <th>index_right</th>\n",
       "    </tr>\n",
       "  </thead>\n",
       "  <tbody>\n",
       "    <tr>\n",
       "      <th>0</th>\n",
       "      <td>1202010030003</td>\n",
       "      <td>.2364</td>\n",
       "      <td>0</td>\n",
       "      <td>Fort Bend</td>\n",
       "      <td>AFF</td>\n",
       "      <td>48157</td>\n",
       "      <td>1202010030003</td>\n",
       "      <td>209721</td>\n",
       "      <td>0.189537</td>\n",
       "      <td>486T</td>\n",
       "      <td>...</td>\n",
       "      <td>7500.0000</td>\n",
       "      <td>5.35</td>\n",
       "      <td>SF</td>\n",
       "      <td>BARKER RESERVOIR</td>\n",
       "      <td>T</td>\n",
       "      <td>2000</td>\n",
       "      <td>KATY</td>\n",
       "      <td>0.0</td>\n",
       "      <td>POINT (-95.7323 29.7358)</td>\n",
       "      <td>3</td>\n",
       "    </tr>\n",
       "    <tr>\n",
       "      <th>1</th>\n",
       "      <td>1202010030004</td>\n",
       "      <td>.2001</td>\n",
       "      <td>0</td>\n",
       "      <td>Fort Bend</td>\n",
       "      <td>AFF</td>\n",
       "      <td>48157</td>\n",
       "      <td>1202010030004</td>\n",
       "      <td>232781</td>\n",
       "      <td>0.559052</td>\n",
       "      <td>486T</td>\n",
       "      <td>...</td>\n",
       "      <td>7500.0000</td>\n",
       "      <td>5.35</td>\n",
       "      <td>SF</td>\n",
       "      <td>BARKER RESERVOIR</td>\n",
       "      <td>T</td>\n",
       "      <td>2000</td>\n",
       "      <td>KATY</td>\n",
       "      <td>0.0</td>\n",
       "      <td>POINT (-95.732 29.7356)</td>\n",
       "      <td>3</td>\n",
       "    </tr>\n",
       "    <tr>\n",
       "      <th>2</th>\n",
       "      <td>0220120000001</td>\n",
       "      <td>1.2186</td>\n",
       "      <td>0</td>\n",
       "      <td>Fort Bend</td>\n",
       "      <td>AFF</td>\n",
       "      <td>48157</td>\n",
       "      <td>0220120000001</td>\n",
       "      <td>0</td>\n",
       "      <td>1.050186</td>\n",
       "      <td>444Y</td>\n",
       "      <td>...</td>\n",
       "      <td>53082.0000</td>\n",
       "      <td>7.00</td>\n",
       "      <td>SF</td>\n",
       "      <td>BARKER RESERVOIR</td>\n",
       "      <td>T</td>\n",
       "      <td></td>\n",
       "      <td>KATY</td>\n",
       "      <td>0.0</td>\n",
       "      <td>POINT (-95.825 29.7878)</td>\n",
       "      <td>3</td>\n",
       "    </tr>\n",
       "    <tr>\n",
       "      <th>3</th>\n",
       "      <td>1202010010026</td>\n",
       "      <td>1.1930</td>\n",
       "      <td>0</td>\n",
       "      <td>Fort Bend</td>\n",
       "      <td>AFF</td>\n",
       "      <td>48157</td>\n",
       "      <td>1202010010026</td>\n",
       "      <td>0</td>\n",
       "      <td>0.189056</td>\n",
       "      <td>486T</td>\n",
       "      <td>...</td>\n",
       "      <td></td>\n",
       "      <td></td>\n",
       "      <td></td>\n",
       "      <td>BARKER RESERVOIR</td>\n",
       "      <td>T</td>\n",
       "      <td></td>\n",
       "      <td>KATY</td>\n",
       "      <td>0.0</td>\n",
       "      <td>POINT (-95.73350000000001 29.7363)</td>\n",
       "      <td>3</td>\n",
       "    </tr>\n",
       "    <tr>\n",
       "      <th>4</th>\n",
       "      <td>0481040000013</td>\n",
       "      <td>.8235</td>\n",
       "      <td>0</td>\n",
       "      <td>Harris</td>\n",
       "      <td>AFF</td>\n",
       "      <td>48201</td>\n",
       "      <td>0481040000013</td>\n",
       "      <td>0</td>\n",
       "      <td>0.040237</td>\n",
       "      <td>444K</td>\n",
       "      <td>...</td>\n",
       "      <td>35872.0000</td>\n",
       "      <td>1.20</td>\n",
       "      <td>SF</td>\n",
       "      <td>BARKER RESERVOIR</td>\n",
       "      <td>T</td>\n",
       "      <td></td>\n",
       "      <td>KATY</td>\n",
       "      <td>0.0</td>\n",
       "      <td>POINT (-95.8323 29.818)</td>\n",
       "      <td>3</td>\n",
       "    </tr>\n",
       "  </tbody>\n",
       "</table>\n",
       "<p>5 rows × 48 columns</p>\n",
       "</div>"
      ],
      "text/plain": [
       "         ACCOUNT ACREAGE CONDO_FLAG     COUNTY DMG_LEVEL   FIPS  \\\n",
       "0  1202010030003   .2364          0  Fort Bend       AFF  48157   \n",
       "1  1202010030004   .2001          0  Fort Bend       AFF  48157   \n",
       "2  0220120000001  1.2186          0  Fort Bend       AFF  48157   \n",
       "3  1202010010026  1.1930          0  Fort Bend       AFF  48157   \n",
       "4  0481040000013   .8235          0     Harris       AFF  48201   \n",
       "\n",
       "        HCAD_NUM IMPROVEMEN  IN_DEPTH KEY_MAP     ...           UNITS  \\\n",
       "0  1202010030003     209721  0.189537    486T     ...       7500.0000   \n",
       "1  1202010030004     232781  0.559052    486T     ...       7500.0000   \n",
       "2  0220120000001          0  1.050186    444Y     ...      53082.0000   \n",
       "3  1202010010026          0  0.189056    486T     ...                   \n",
       "4  0481040000013          0  0.040237    444K     ...      35872.0000   \n",
       "\n",
       "  UNIT_PRICE UNIT_TYPE          WTSHNAME  WTSHUNIT YR_IMPR  city  cohgis_COU  \\\n",
       "0       5.35        SF  BARKER RESERVOIR         T    2000  KATY         0.0   \n",
       "1       5.35        SF  BARKER RESERVOIR         T    2000  KATY         0.0   \n",
       "2       7.00        SF  BARKER RESERVOIR         T          KATY         0.0   \n",
       "3                       BARKER RESERVOIR         T          KATY         0.0   \n",
       "4       1.20        SF  BARKER RESERVOIR         T          KATY         0.0   \n",
       "\n",
       "                             geometry index_right  \n",
       "0            POINT (-95.7323 29.7358)           3  \n",
       "1             POINT (-95.732 29.7356)           3  \n",
       "2             POINT (-95.825 29.7878)           3  \n",
       "3  POINT (-95.73350000000001 29.7363)           3  \n",
       "4             POINT (-95.8323 29.818)           3  \n",
       "\n",
       "[5 rows x 48 columns]"
      ]
     },
     "execution_count": 6,
     "metadata": {},
     "output_type": "execute_result"
    }
   ],
   "source": [
    "df_r_ws.head()"
   ]
  },
  {
   "cell_type": "code",
   "execution_count": 7,
   "metadata": {
    "collapsed": false
   },
   "outputs": [
    {
     "ename": "NameError",
     "evalue": "name 'df' is not defined",
     "output_type": "error",
     "traceback": [
      "\u001b[0;31m---------------------------------------------------------------------------\u001b[0m",
      "\u001b[0;31mNameError\u001b[0m                                 Traceback (most recent call last)",
      "\u001b[0;32m<ipython-input-7-7e898ab50ce5>\u001b[0m in \u001b[0;36m<module>\u001b[0;34m()\u001b[0m\n\u001b[0;32m----> 1\u001b[0;31m \u001b[0mdf_r_ws\u001b[0m\u001b[0;34m[\u001b[0m\u001b[0mdf\u001b[0m\u001b[0;34m]\u001b[0m\u001b[0;34m\u001b[0m\u001b[0m\n\u001b[0m",
      "\u001b[0;31mNameError\u001b[0m: name 'df' is not defined"
     ]
    }
   ],
   "source": []
  },
  {
   "cell_type": "code",
   "execution_count": null,
   "metadata": {
    "collapsed": true
   },
   "outputs": [],
   "source": []
  },
  {
   "cell_type": "code",
   "execution_count": null,
   "metadata": {
    "collapsed": true
   },
   "outputs": [],
   "source": []
  },
  {
   "cell_type": "code",
   "execution_count": null,
   "metadata": {
    "collapsed": true
   },
   "outputs": [],
   "source": []
  },
  {
   "cell_type": "code",
   "execution_count": null,
   "metadata": {
    "collapsed": true
   },
   "outputs": [],
   "source": []
  },
  {
   "cell_type": "code",
   "execution_count": null,
   "metadata": {
    "collapsed": true
   },
   "outputs": [],
   "source": []
  },
  {
   "cell_type": "code",
   "execution_count": null,
   "metadata": {
    "collapsed": true
   },
   "outputs": [],
   "source": []
  },
  {
   "cell_type": "code",
   "execution_count": null,
   "metadata": {
    "collapsed": true
   },
   "outputs": [],
   "source": []
  },
  {
   "cell_type": "code",
   "execution_count": 10,
   "metadata": {
    "collapsed": false
   },
   "outputs": [
    {
     "data": {
      "text/plain": [
       "{'init': 'epsg:4326'}"
      ]
     },
     "execution_count": 10,
     "metadata": {},
     "output_type": "execute_result"
    }
   ],
   "source": [
    "c.crs"
   ]
  },
  {
   "cell_type": "code",
   "execution_count": null,
   "metadata": {
    "collapsed": true
   },
   "outputs": [],
   "source": []
  },
  {
   "cell_type": "code",
   "execution_count": null,
   "metadata": {
    "collapsed": true
   },
   "outputs": [],
   "source": []
  },
  {
   "cell_type": "code",
   "execution_count": 18,
   "metadata": {
    "collapsed": false
   },
   "outputs": [],
   "source": [
    "watersheds = df_r_ws.WTSHNAME.unique()"
   ]
  },
  {
   "cell_type": "code",
   "execution_count": 15,
   "metadata": {
    "collapsed": true
   },
   "outputs": [],
   "source": [
    "df_r_ws_WHITEOAKBAYOU = df_r_ws[df_r_ws['WTSHNAME'].str.contains(\"WHITE OAK BAYOU\")]"
   ]
  },
  {
   "cell_type": "code",
   "execution_count": 17,
   "metadata": {
    "collapsed": false
   },
   "outputs": [
    {
     "data": {
      "text/plain": [
       "<matplotlib.axes._subplots.AxesSubplot at 0x17ed516d8>"
      ]
     },
     "execution_count": 17,
     "metadata": {},
     "output_type": "execute_result"
    },
    {
     "data": {
      "image/png": "[encoded data removed]",
      "text/plain": [
       "<matplotlib.figure.Figure at 0x184f0e828>"
      ]
     },
     "metadata": {},
     "output_type": "display_data"
    }
   ],
   "source": [
    "df_r_ws_WHITEOAKBAYOU.plot()"
   ]
  },
  {
   "cell_type": "code",
   "execution_count": 19,
   "metadata": {
    "collapsed": false
   },
   "outputs": [
    {
     "name": "stdout",
     "output_type": "stream",
     "text": [
      "['BARKER RESERVOIR' 'CEDAR BAYOU' 'ADDICKS RESERVOIR' 'GREENS BAYOU'\n",
      " 'CARPENTERS BAYOU' 'WHITE OAK BAYOU' 'HUNTING BAYOU' 'SAN JACINTO RIVER'\n",
      " 'CYPRESS CREEK' 'SPRING CREEK' 'WILLOW CREEK' 'LITTLE CYPRESS CREEK'\n",
      " 'LUCE BAYOU' 'JACKSON BAYOU' 'BUFFALO BAYOU' 'SPRING GULLY & GOOSE CREEK'\n",
      " 'BRAYS BAYOU' 'VINCE BAYOU' 'SIMS BAYOU' 'CLEAR CREEK' 'ARMAND BAYOU'\n",
      " 'SAN JACINTO & GALVESTON BAY']\n"
     ]
    }
   ],
   "source": [
    "print(watersheds)"
   ]
  },
  {
   "cell_type": "code",
   "execution_count": 22,
   "metadata": {
    "collapsed": false
   },
   "outputs": [
    {
     "data": {
      "text/plain": [
       "'GREENS BAYOU'"
      ]
     },
     "execution_count": 22,
     "metadata": {},
     "output_type": "execute_result"
    }
   ],
   "source": [
    "watersheds[3]  "
   ]
  },
  {
   "cell_type": "code",
   "execution_count": 29,
   "metadata": {
    "collapsed": false
   },
   "outputs": [
    {
     "name": "stdout",
     "output_type": "stream",
     "text": [
      "BARKER_RESERVOIR\n",
      "CEDAR_BAYOU\n",
      "ADDICKS_RESERVOIR\n",
      "GREENS_BAYOU\n",
      "CARPENTERS_BAYOU\n",
      "WHITE_OAK_BAYOU\n",
      "HUNTING_BAYOU\n",
      "SAN_JACINTO_RIVER\n",
      "CYPRESS_CREEK\n",
      "SPRING_CREEK\n",
      "WILLOW_CREEK\n",
      "LITTLE_CYPRESS_CREEK\n",
      "LUCE_BAYOU\n",
      "JACKSON_BAYOU\n",
      "BUFFALO_BAYOU\n",
      "SPRING_GULLY_&_GOOSE_CREEK\n",
      "BRAYS_BAYOU\n",
      "VINCE_BAYOU\n",
      "SIMS_BAYOU\n",
      "CLEAR_CREEK\n",
      "ARMAND_BAYOU\n",
      "SAN_JACINTO_&_GALVESTON_BAY\n"
     ]
    }
   ],
   "source": [
    "for i in watersheds:\n",
    "    p = i.replace(\" \",\"_\")\n",
    "    print(p)"
   ]
  },
  {
   "cell_type": "code",
   "execution_count": null,
   "metadata": {
    "collapsed": true
   },
   "outputs": [],
   "source": [
    "print(watersheds)"
   ]
  },
  {
   "cell_type": "code",
   "execution_count": 38,
   "metadata": {
    "collapsed": true
   },
   "outputs": [],
   "source": [
    "#### This function takes in a geojson, an array of strings, and a column header and makes excepts. \n",
    "#### Each is a new geojson whose rows for the given column header match one of the strings in the array of strings. \n",
    "#### If there are 5 strings in the string array and all exist in the geojson at that column header, then 5 geojsons should be produced. \n",
    "def makegeojsonAttributeExcerpts(geojson,watershedsArray,colHeader):\n",
    "    data_path = \"../big_data_leave\"\n",
    "    for i in watershedsArray:\n",
    "        watershedFileName = i.replace(\" \",\"_\")\n",
    "        watershedFileName = watershedFileName.replace(\"&\",\"_\")\n",
    "        geojson_holder = geojson[geojson[colHeader].str.contains(i)]\n",
    "        ws_out = data_path+\"/HarrisCnty_FEMAdamHCADwatershed_\"+watershedFileName+\".geojson\"\n",
    "        geojson_holder.to_file(ws_out, driver='GeoJSON')"
   ]
  },
  {
   "cell_type": "code",
   "execution_count": 39,
   "metadata": {
    "collapsed": false
   },
   "outputs": [
    {
     "ename": "ValueError",
     "evalue": "Null layer",
     "output_type": "error",
     "traceback": [
      "\u001b[0;31m---------------------------------------------------------------------------\u001b[0m",
      "\u001b[0;31mValueError\u001b[0m                                Traceback (most recent call last)",
      "\u001b[0;32m<ipython-input-39-83cbc39e6bba>\u001b[0m in \u001b[0;36m<module>\u001b[0;34m()\u001b[0m\n\u001b[0;32m----> 1\u001b[0;31m \u001b[0mmakegeojsonAttributeExcerpts\u001b[0m\u001b[0;34m(\u001b[0m\u001b[0mdf_r_ws\u001b[0m\u001b[0;34m,\u001b[0m\u001b[0mwatersheds\u001b[0m\u001b[0;34m,\u001b[0m\u001b[0;34m\"WTSHNAME\"\u001b[0m\u001b[0;34m)\u001b[0m\u001b[0;34m\u001b[0m\u001b[0m\n\u001b[0m",
      "\u001b[0;32m<ipython-input-38-cb9ea8a6246f>\u001b[0m in \u001b[0;36mmakegeojsonAttributeExcerpts\u001b[0;34m(geojson, watershedsArray, colHeader)\u001b[0m\n\u001b[1;32m      7\u001b[0m         \u001b[0mgeojson_holder\u001b[0m \u001b[0;34m=\u001b[0m \u001b[0mgeojson\u001b[0m\u001b[0;34m[\u001b[0m\u001b[0mgeojson\u001b[0m\u001b[0;34m[\u001b[0m\u001b[0mcolHeader\u001b[0m\u001b[0;34m]\u001b[0m\u001b[0;34m.\u001b[0m\u001b[0mstr\u001b[0m\u001b[0;34m.\u001b[0m\u001b[0mcontains\u001b[0m\u001b[0;34m(\u001b[0m\u001b[0mi\u001b[0m\u001b[0;34m)\u001b[0m\u001b[0;34m]\u001b[0m\u001b[0;34m\u001b[0m\u001b[0m\n\u001b[1;32m      8\u001b[0m         \u001b[0mws_out\u001b[0m \u001b[0;34m=\u001b[0m \u001b[0mdata_path\u001b[0m\u001b[0;34m+\u001b[0m\u001b[0;34m\"/HarrisCnty_FEMAdamHCADwatershed_\"\u001b[0m\u001b[0;34m+\u001b[0m\u001b[0mwatershedFileName\u001b[0m\u001b[0;34m+\u001b[0m\u001b[0;34m\".geojson\"\u001b[0m\u001b[0;34m\u001b[0m\u001b[0m\n\u001b[0;32m----> 9\u001b[0;31m         \u001b[0mgeojson_holder\u001b[0m\u001b[0;34m.\u001b[0m\u001b[0mto_file\u001b[0m\u001b[0;34m(\u001b[0m\u001b[0mws_out\u001b[0m\u001b[0;34m,\u001b[0m \u001b[0mdriver\u001b[0m\u001b[0;34m=\u001b[0m\u001b[0;34m'GeoJSON'\u001b[0m\u001b[0;34m)\u001b[0m\u001b[0;34m\u001b[0m\u001b[0m\n\u001b[0m",
      "\u001b[0;32m/Users/justingosses/anaconda/lib/python3.5/site-packages/geopandas/geodataframe.py\u001b[0m in \u001b[0;36mto_file\u001b[0;34m(self, filename, driver, schema, **kwargs)\u001b[0m\n\u001b[1;32m    341\u001b[0m         \"\"\"\n\u001b[1;32m    342\u001b[0m         \u001b[0;32mfrom\u001b[0m \u001b[0mgeopandas\u001b[0m\u001b[0;34m.\u001b[0m\u001b[0mio\u001b[0m\u001b[0;34m.\u001b[0m\u001b[0mfile\u001b[0m \u001b[0;32mimport\u001b[0m \u001b[0mto_file\u001b[0m\u001b[0;34m\u001b[0m\u001b[0m\n\u001b[0;32m--> 343\u001b[0;31m         \u001b[0mto_file\u001b[0m\u001b[0;34m(\u001b[0m\u001b[0mself\u001b[0m\u001b[0;34m,\u001b[0m \u001b[0mfilename\u001b[0m\u001b[0;34m,\u001b[0m \u001b[0mdriver\u001b[0m\u001b[0;34m,\u001b[0m \u001b[0mschema\u001b[0m\u001b[0;34m,\u001b[0m \u001b[0;34m**\u001b[0m\u001b[0mkwargs\u001b[0m\u001b[0;34m)\u001b[0m\u001b[0;34m\u001b[0m\u001b[0m\n\u001b[0m\u001b[1;32m    344\u001b[0m \u001b[0;34m\u001b[0m\u001b[0m\n\u001b[1;32m    345\u001b[0m     \u001b[0;32mdef\u001b[0m \u001b[0mto_crs\u001b[0m\u001b[0;34m(\u001b[0m\u001b[0mself\u001b[0m\u001b[0;34m,\u001b[0m \u001b[0mcrs\u001b[0m\u001b[0;34m=\u001b[0m\u001b[0;32mNone\u001b[0m\u001b[0;34m,\u001b[0m \u001b[0mepsg\u001b[0m\u001b[0;34m=\u001b[0m\u001b[0;32mNone\u001b[0m\u001b[0;34m,\u001b[0m \u001b[0minplace\u001b[0m\u001b[0;34m=\u001b[0m\u001b[0;32mFalse\u001b[0m\u001b[0;34m)\u001b[0m\u001b[0;34m:\u001b[0m\u001b[0;34m\u001b[0m\u001b[0m\n",
      "\u001b[0;32m/Users/justingosses/anaconda/lib/python3.5/site-packages/geopandas/io/file.py\u001b[0m in \u001b[0;36mto_file\u001b[0;34m(df, filename, driver, schema, **kwargs)\u001b[0m\n\u001b[1;32m     59\u001b[0m     \u001b[0mfilename\u001b[0m \u001b[0;34m=\u001b[0m \u001b[0mos\u001b[0m\u001b[0;34m.\u001b[0m\u001b[0mpath\u001b[0m\u001b[0;34m.\u001b[0m\u001b[0mabspath\u001b[0m\u001b[0;34m(\u001b[0m\u001b[0mos\u001b[0m\u001b[0;34m.\u001b[0m\u001b[0mpath\u001b[0m\u001b[0;34m.\u001b[0m\u001b[0mexpanduser\u001b[0m\u001b[0;34m(\u001b[0m\u001b[0mfilename\u001b[0m\u001b[0;34m)\u001b[0m\u001b[0;34m)\u001b[0m\u001b[0;34m\u001b[0m\u001b[0m\n\u001b[1;32m     60\u001b[0m     with fiona.open(filename, 'w', driver=driver, crs=df.crs,\n\u001b[0;32m---> 61\u001b[0;31m                     schema=schema, **kwargs) as c:\n\u001b[0m\u001b[1;32m     62\u001b[0m         \u001b[0;32mfor\u001b[0m \u001b[0mfeature\u001b[0m \u001b[0;32min\u001b[0m \u001b[0mdf\u001b[0m\u001b[0;34m.\u001b[0m\u001b[0miterfeatures\u001b[0m\u001b[0;34m(\u001b[0m\u001b[0;34m)\u001b[0m\u001b[0;34m:\u001b[0m\u001b[0;34m\u001b[0m\u001b[0m\n\u001b[1;32m     63\u001b[0m             \u001b[0mc\u001b[0m\u001b[0;34m.\u001b[0m\u001b[0mwrite\u001b[0m\u001b[0;34m(\u001b[0m\u001b[0mfeature\u001b[0m\u001b[0;34m)\u001b[0m\u001b[0;34m\u001b[0m\u001b[0m\n",
      "\u001b[0;32m/Users/justingosses/anaconda/lib/python3.5/site-packages/fiona/__init__.py\u001b[0m in \u001b[0;36mopen\u001b[0;34m(path, mode, driver, schema, crs, encoding, layer, vfs, enabled_drivers, crs_wkt)\u001b[0m\n\u001b[1;32m    176\u001b[0m         c = Collection(path, mode, crs=crs, driver=driver, schema=this_schema,\n\u001b[1;32m    177\u001b[0m                        \u001b[0mencoding\u001b[0m\u001b[0;34m=\u001b[0m\u001b[0mencoding\u001b[0m\u001b[0;34m,\u001b[0m \u001b[0mlayer\u001b[0m\u001b[0;34m=\u001b[0m\u001b[0mlayer\u001b[0m\u001b[0;34m,\u001b[0m \u001b[0mvsi\u001b[0m\u001b[0;34m=\u001b[0m\u001b[0mvsi\u001b[0m\u001b[0;34m,\u001b[0m \u001b[0marchive\u001b[0m\u001b[0;34m=\u001b[0m\u001b[0marchive\u001b[0m\u001b[0;34m,\u001b[0m\u001b[0;34m\u001b[0m\u001b[0m\n\u001b[0;32m--> 178\u001b[0;31m                        enabled_drivers=enabled_drivers, crs_wkt=crs_wkt)\n\u001b[0m\u001b[1;32m    179\u001b[0m     \u001b[0;32melse\u001b[0m\u001b[0;34m:\u001b[0m\u001b[0;34m\u001b[0m\u001b[0m\n\u001b[1;32m    180\u001b[0m         raise ValueError(\n",
      "\u001b[0;32m/Users/justingosses/anaconda/lib/python3.5/site-packages/fiona/collection.py\u001b[0m in \u001b[0;36m__init__\u001b[0;34m(self, path, mode, driver, schema, crs, encoding, layer, vsi, archive, enabled_drivers, crs_wkt, **kwargs)\u001b[0m\n\u001b[1;32m    153\u001b[0m             \u001b[0mself\u001b[0m\u001b[0;34m.\u001b[0m\u001b[0mencoding\u001b[0m \u001b[0;34m=\u001b[0m \u001b[0mencoding\u001b[0m\u001b[0;34m\u001b[0m\u001b[0m\n\u001b[1;32m    154\u001b[0m             \u001b[0mself\u001b[0m\u001b[0;34m.\u001b[0m\u001b[0msession\u001b[0m \u001b[0;34m=\u001b[0m \u001b[0mWritingSession\u001b[0m\u001b[0;34m(\u001b[0m\u001b[0;34m)\u001b[0m\u001b[0;34m\u001b[0m\u001b[0m\n\u001b[0;32m--> 155\u001b[0;31m             \u001b[0mself\u001b[0m\u001b[0;34m.\u001b[0m\u001b[0msession\u001b[0m\u001b[0;34m.\u001b[0m\u001b[0mstart\u001b[0m\u001b[0;34m(\u001b[0m\u001b[0mself\u001b[0m\u001b[0;34m,\u001b[0m \u001b[0;34m**\u001b[0m\u001b[0mkwargs\u001b[0m\u001b[0;34m)\u001b[0m\u001b[0;34m\u001b[0m\u001b[0m\n\u001b[0m\u001b[1;32m    156\u001b[0m             \u001b[0mself\u001b[0m\u001b[0;34m.\u001b[0m\u001b[0mencoding\u001b[0m \u001b[0;34m=\u001b[0m \u001b[0mencoding\u001b[0m \u001b[0;32mor\u001b[0m \u001b[0mself\u001b[0m\u001b[0;34m.\u001b[0m\u001b[0msession\u001b[0m\u001b[0;34m.\u001b[0m\u001b[0mget_fileencoding\u001b[0m\u001b[0;34m(\u001b[0m\u001b[0;34m)\u001b[0m\u001b[0;34m.\u001b[0m\u001b[0mlower\u001b[0m\u001b[0;34m(\u001b[0m\u001b[0;34m)\u001b[0m\u001b[0;34m\u001b[0m\u001b[0m\n\u001b[1;32m    157\u001b[0m \u001b[0;34m\u001b[0m\u001b[0m\n",
      "\u001b[0;32mfiona/ogrext.pyx\u001b[0m in \u001b[0;36mfiona.ogrext.WritingSession.start (fiona/ogrext.c:15539)\u001b[0;34m()\u001b[0m\n",
      "\u001b[0;31mValueError\u001b[0m: Null layer"
     ]
    }
   ],
   "source": [
    "### NOTE: If you call this more than once and try to write to the same filenames, you will see an error below. \n",
    "makegeojsonAttributeExcerpts(df_r_ws,watersheds,\"WTSHNAME\")"
   ]
  },
  {
   "cell_type": "code",
   "execution_count": null,
   "metadata": {
    "collapsed": true
   },
   "outputs": [],
   "source": []
  },
  {
   "cell_type": "code",
   "execution_count": null,
   "metadata": {
    "collapsed": true
   },
   "outputs": [],
   "source": []
  },
  {
   "cell_type": "code",
   "execution_count": null,
   "metadata": {
    "collapsed": true
   },
   "outputs": [],
   "source": []
  },
  {
   "cell_type": "code",
   "execution_count": null,
   "metadata": {
    "collapsed": true
   },
   "outputs": [],
   "source": []
  },
  {
   "cell_type": "code",
   "execution_count": null,
   "metadata": {
    "collapsed": true
   },
   "outputs": [],
   "source": []
  }
 ],
 "metadata": {
  "kernelspec": {
   "display_name": "Python 3",
   "language": "python",
   "name": "python3"
  },
  "language_info": {
   "codemirror_mode": {
    "name": "ipython",
    "version": 3
   },
   "file_extension": ".py",
   "mimetype": "text/x-python",
   "name": "python",
   "nbconvert_exporter": "python",
   "pygments_lexer": "ipython3",
   "version": "3.5.2"
  }
 },
 "nbformat": 4,
 "nbformat_minor": 2
}
